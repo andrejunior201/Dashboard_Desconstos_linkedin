{
 "cells": [
  {
   "cell_type": "code",
   "execution_count": 1,
   "id": "e3d83d75",
   "metadata": {},
   "outputs": [],
   "source": [
    "import pandas as pd"
   ]
  },
  {
   "cell_type": "code",
   "execution_count": 6,
   "id": "1c42c7d2",
   "metadata": {},
   "outputs": [],
   "source": [
    "base = pd.read_parquet(\"data_cache_budget.parquet\")"
   ]
  },
  {
   "cell_type": "code",
   "execution_count": 7,
   "id": "55cbdc69",
   "metadata": {},
   "outputs": [
    {
     "data": {
      "text/plain": [
       "0    Venda\n",
       "1    Venda\n",
       "2    Venda\n",
       "3    Venda\n",
       "4    Venda\n",
       "Name: fl_tipo_registro, dtype: object"
      ]
     },
     "metadata": {},
     "output_type": "display_data"
    },
    {
     "data": {
      "text/plain": [
       "0    2025\n",
       "1    2025\n",
       "2    2025\n",
       "3    2025\n",
       "4    2025\n",
       "Name: ano, dtype: int32"
      ]
     },
     "metadata": {},
     "output_type": "display_data"
    },
    {
     "data": {
      "text/plain": [
       "0    1\n",
       "1    1\n",
       "2    1\n",
       "3    1\n",
       "4    1\n",
       "Name: mes, dtype: int64"
      ]
     },
     "metadata": {},
     "output_type": "display_data"
    },
    {
     "data": {
      "text/plain": [
       "0    ALEXANDRE BIRMAN\n",
       "1    ALEXANDRE BIRMAN\n",
       "2    ALEXANDRE BIRMAN\n",
       "3    ALEXANDRE BIRMAN\n",
       "4    ALEXANDRE BIRMAN\n",
       "Name: marca, dtype: object"
      ]
     },
     "metadata": {},
     "output_type": "display_data"
    },
    {
     "data": {
      "text/plain": [
       "0    Lojas Próprias\n",
       "1    Lojas Próprias\n",
       "2    Lojas Próprias\n",
       "3    Lojas Próprias\n",
       "4    Lojas Próprias\n",
       "Name: canal, dtype: object"
      ]
     },
     "metadata": {},
     "output_type": "display_data"
    },
    {
     "data": {
      "text/plain": [
       "0    101558\n",
       "1    179182\n",
       "2    302978\n",
       "3    304050\n",
       "4    304137\n",
       "Name: cod_loja, dtype: object"
      ]
     },
     "metadata": {},
     "output_type": "display_data"
    },
    {
     "data": {
      "text/plain": [
       "0              Alexandre Birman IGT\n",
       "1    Alexandre Birman Cidade Jardim\n",
       "2           Alexandre Birman Leblon\n",
       "3          Alexandre Birman IGT BSB\n",
       "4         Alexandre Birman Curitiba\n",
       "Name: loja, dtype: object"
      ]
     },
     "metadata": {},
     "output_type": "display_data"
    },
    {
     "data": {
      "text/plain": [
       "0    1.582275e+06\n",
       "1    6.729353e+05\n",
       "2    1.034450e+06\n",
       "3    4.654911e+05\n",
       "4    3.329209e+05\n",
       "Name: receita_nf, dtype: float64"
      ]
     },
     "metadata": {},
     "output_type": "display_data"
    },
    {
     "data": {
      "text/plain": [
       "0    175808.349734\n",
       "1    147717.500723\n",
       "2    114938.850289\n",
       "3     51721.233733\n",
       "4     49746.804690\n",
       "Name: desconto, dtype: float64"
      ]
     },
     "metadata": {},
     "output_type": "display_data"
    },
    {
     "data": {
      "text/plain": [
       "0    1.758083e+06\n",
       "1    8.206528e+05\n",
       "2    1.149389e+06\n",
       "3    5.172123e+05\n",
       "4    3.826677e+05\n",
       "Name: pvl, dtype: float64"
      ]
     },
     "metadata": {},
     "output_type": "display_data"
    },
    {
     "data": {
      "text/plain": [
       "0   -0.10\n",
       "1   -0.18\n",
       "2   -0.10\n",
       "3   -0.10\n",
       "4   -0.13\n",
       "Name: perc_desconto, dtype: float64"
      ]
     },
     "metadata": {},
     "output_type": "display_data"
    },
    {
     "data": {
      "text/plain": [
       "0              Alexandre Birman IGT\n",
       "1    Alexandre Birman Cidade Jardim\n",
       "2           Alexandre Birman Leblon\n",
       "3          Alexandre Birman IGT BSB\n",
       "4         Alexandre Birman Curitiba\n",
       "Name: nome_ajustado, dtype: object"
      ]
     },
     "metadata": {},
     "output_type": "display_data"
    },
    {
     "data": {
      "text/plain": [
       "0    SSS\n",
       "1    SSS\n",
       "2    SSS\n",
       "3    SSS\n",
       "4    SSS\n",
       "Name: Classificacao_apoio, dtype: object"
      ]
     },
     "metadata": {},
     "output_type": "display_data"
    },
    {
     "data": {
      "text/plain": [
       "0    1.582275e+06\n",
       "1    6.729353e+05\n",
       "2    1.034450e+06\n",
       "3    4.654911e+05\n",
       "4    3.329209e+05\n",
       "Name: ROB_BUDGET, dtype: float64"
      ]
     },
     "metadata": {},
     "output_type": "display_data"
    },
    {
     "data": {
      "text/plain": [
       "0    1.758083e+06\n",
       "1    8.206528e+05\n",
       "2    1.149389e+06\n",
       "3    5.172123e+05\n",
       "4    3.826677e+05\n",
       "Name: PVL_BUDGET, dtype: float64"
      ]
     },
     "metadata": {},
     "output_type": "display_data"
    }
   ],
   "source": [
    "for coluna in list(base.columns):\n",
    "    display(base[coluna].head(5))"
   ]
  },
  {
   "cell_type": "code",
   "execution_count": 16,
   "id": "f9d801e0",
   "metadata": {},
   "outputs": [
    {
     "name": "stdout",
     "output_type": "stream",
     "text": [
      "Base fictícia salva como 'base_ficticia.parquet'\n"
     ]
    }
   ],
   "source": [
    "import pandas as pd\n",
    "import numpy as np\n",
    "import random\n",
    "\n",
    "# Número de linhas da base fictícia\n",
    "n = 4000\n",
    "\n",
    "# Listas de exemplo para as colunas categóricas\n",
    "canais = [\"Outlet\", \"Lojas Próprias\", \"Multimarcas\"]\n",
    "tipos_registro = [\"Venda\", \"Troca\"]\n",
    "marcas = [\"VANS\", \"ALEXANDRE BIRMAN\", \"ALME\", \"ANACAPRI\", \"AREZZO\"]\n",
    "classificacao_apoio = [\"Outlet\", \"SSS\", \"Fechadas/Repassadas\"]\n",
    "estacoes = [\"ATEMPORAIS\", \"VERÃO 2020\", \"INVERNO 2023\", \"VERÃO 2024\", \"OUTROS\"]\n",
    "colecoes = [\"1T21 - CARRY OVER\", \"RESORT 2020\", \"ALME INV 2 + MÃES\", \"VERÃO 1\", \"OUTROS\"]\n",
    "temas = [\"CARRY OVER 1T21\", \"RESORT 2020\", \"SLIDE\", \"LUME MINI\", \"OUTROS\"]\n",
    "lojas = [\"OUT DUQUE DE CAXIAS\", \"SHOPPING IGUATEMI\", \"IGUATEMI FARIA LIMA\", \"SHOP CIDADE JARDIM\", \"JK IGUATEMI\"]\n",
    "sapatos = [\"shoes\", \"sneakers\", \"sandals\", \"heels\", \"boots\"]\n",
    "\n",
    "# Criando dataframe fictício\n",
    "df = pd.DataFrame({\n",
    "    \"canal\": np.random.choice(canais, n),\n",
    "    \"fl_tipo_registro\": np.random.choice(tipos_registro, n),\n",
    "    \"dia\": np.random.randint(1, 31, n),\n",
    "    \"mes\": np.random.randint(1, 13, n),\n",
    "    \"ano\": np.random.choice([2025, 2023, 2024], n),\n",
    "    \"cd_venda_ticket\": [str(random.randint(60000000, 99999999)) for _ in range(n)],\n",
    "    \"cd_venda\": [str(random.randint(1000000000000, 1999999999999)) for _ in range(n)],\n",
    "    \"dt_faturamento\": pd.to_datetime(np.random.choice(pd.date_range(\"2023-01-01\", \"2025-12-31\"), n)),\n",
    "    \"SKU\": [f\"{random.randint(1000000000, 9999999999)}\" for _ in range(n)],\n",
    "    \"marca\": np.random.choice(marcas, n),\n",
    "    \"Canal_ajustado\": np.random.choice(canais, n),\n",
    "    \"cod_loja_anterior\": np.random.randint(100000, 400000, n),\n",
    "    \"cod_loja\": np.random.randint(100000, 400000, n),\n",
    "    \"loja\": np.random.choice(lojas, n),\n",
    "    \"nome_ajustado\": [f\"{random.choice(marcas)} {random.choice(lojas)}\" for _ in range(n)],\n",
    "    \"Classificacao_apoio\": np.random.choice(classificacao_apoio, n),\n",
    "    \"DS_ESTACAO\": np.random.choice(estacoes, n),\n",
    "    \"DS_COLECAO\": np.random.choice(colecoes, n),\n",
    "    \"DS_TEMA\": np.random.choice(temas, n),\n",
    "    \"cd_colecao\": [f\"C{random.randint(10,99)}\" for _ in range(n)],\n",
    "    \"cd_estacao\": np.random.randint(100, 999, n),\n",
    "    \"cd_lancamento\": np.random.choice([\"001\", \"013\", \"025\", None], n),\n",
    "    \"cd_tema\": np.random.choice([\"001\", \"002\", \"025\", \"OUTROS\"], n),\n",
    "    \"link_imagem_produtos\": [f\"https://picsum.photos/300/300?random={i}\" for i in range(n)],\n",
    "    \"receita_nf\": np.round(np.random.uniform(100, 50000, n), 2),\n",
    "    \"desconto\": np.round(np.random.uniform(0, 10000, n), 2),\n",
    "    \"pvl\": np.round(np.random.uniform(100, 80000, n), 2),\n",
    "    \"volume\": np.random.randint(1, 200, n),\n",
    "    \"preco_medio\": np.round(np.random.uniform(50, 5000, n), 2),\n",
    "    \"pvl_medio\": np.round(np.random.uniform(50, 5000, n), 2),\n",
    "    \"perc_desconto\": np.round(np.random.uniform(-50, 50, n), 2),\n",
    "    \"as\": np.zeros(n),\n",
    "    \"PVL_CY\": np.round(np.random.uniform(0, 50000, n), 2),\n",
    "    \"ROB_LY\": np.round(np.random.uniform(0, 50000, n), 2),\n",
    "    \"PVL_LY\": np.round(np.random.uniform(0, 50000, n), 2),\n",
    "    \"ROB_YBL\": np.round(np.random.uniform(0, 50000, n), 2),\n",
    "    \"PVL_YBL\": np.round(np.random.uniform(0, 50000, n), 2),\n",
    "})\n",
    "\n",
    "# Salvar em parquet\n",
    "df.to_parquet(\"base_ficticia.parquet\", index=False)\n",
    "\n",
    "print(\"Base fictícia salva como 'base_ficticia.parquet'\")"
   ]
  },
  {
   "cell_type": "code",
   "execution_count": 19,
   "id": "ff516b01",
   "metadata": {},
   "outputs": [
    {
     "name": "stdout",
     "output_type": "stream",
     "text": [
      "Base fictícia v2 salva como 'base_ficticia_v2.parquet'\n"
     ]
    }
   ],
   "source": [
    "import pandas as pd\n",
    "import numpy as np\n",
    "import random\n",
    "\n",
    "# Número de linhas\n",
    "n = 4000\n",
    "\n",
    "# Opções categóricas\n",
    "marcas = [\"ALEXANDRE BIRMAN\", \"AREZZO\", \"ANACAPRI\", \"VANS\", \"ALME\"]\n",
    "canais = [\"Lojas Próprias\", \"Outlet\", \"Multimarcas\"]\n",
    "lojas = [\n",
    "    \"Alexandre Birman IGT\",\n",
    "    \"Alexandre Birman Cidade Jardim\",\n",
    "    \"Alexandre Birman Leblon\",\n",
    "    \"Alexandre Birman IGT BSB\",\n",
    "    \"Alexandre Birman Curitiba\",\n",
    "    \"Arezzo Iguatemi SP\",\n",
    "    \"Anacapri JK Iguatemi\",\n",
    "    \"Vans Out Premium RJ\"\n",
    "]\n",
    "\n",
    "# Criando DataFrame fictício\n",
    "df = pd.DataFrame({\n",
    "    \"fl_tipo_registro\": [\"Venda\"] * n,\n",
    "    \"ano\": [2025] * n,\n",
    "    \"mes\": [random.randint(1, 12) for _ in range(n)],\n",
    "    \"marca\": np.random.choice(marcas, n),\n",
    "    \"canal\": np.random.choice(canais, n),\n",
    "    \"cod_loja\": np.random.randint(100000, 400000, n),\n",
    "    \"loja\": np.random.choice(lojas, n),\n",
    "    \"receita_nf\": np.round(np.random.uniform(50, 50000, n), 2),\n",
    "    \"desconto\": np.round(np.random.uniform(10000, 300000, n), 2),\n",
    "    \"pvl\": np.round(np.random.uniform(100, 60000, n), 2),\n",
    "    \"perc_desconto\": np.round(np.random.uniform(-0.05, 0.1, n), 2),  # -30% até +10%\n",
    "    \"nome_ajustado\": np.random.choice(lojas, n),\n",
    "    \"Classificacao_apoio\": [\"SSS\"] * n,\n",
    "    \"ROB_BUDGET\": np.round(np.random.uniform(100000, 2000000, n), 2),\n",
    "    \"PVL_BUDGET\": np.round(np.random.uniform(100000, 2500000, n), 2),\n",
    "})\n",
    "\n",
    "# Salvar em parquet\n",
    "df.to_parquet(\"base_ficticia_budget.parquet\", index=False)\n",
    "\n",
    "print(\"Base fictícia v2 salva como 'base_ficticia_v2.parquet'\")\n"
   ]
  }
 ],
 "metadata": {
  "kernelspec": {
   "display_name": "base",
   "language": "python",
   "name": "python3"
  },
  "language_info": {
   "codemirror_mode": {
    "name": "ipython",
    "version": 3
   },
   "file_extension": ".py",
   "mimetype": "text/x-python",
   "name": "python",
   "nbconvert_exporter": "python",
   "pygments_lexer": "ipython3",
   "version": "3.13.5"
  }
 },
 "nbformat": 4,
 "nbformat_minor": 5
}
